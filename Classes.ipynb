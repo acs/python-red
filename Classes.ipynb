{
 "metadata": {
  "name": "",
  "signature": "sha256:9f064b99d0f9fdafbf67f82ddc78a067aa8d6435251fac510320530c8f0b6315"
 },
 "nbformat": 3,
 "nbformat_minor": 0,
 "worksheets": [
  {
   "cells": [
    {
     "cell_type": "markdown",
     "metadata": {},
     "source": [
      "Introducci\u00f3n a la Programaci\u00f3n Orientada a Objetos (POO)\n",
      "==\n",
      "\n",
      "En este notebook daremos una introducci\u00f3n general a la programaci\u00f3n orientada a objetos en Python.\n",
      "Todo es referente a Python3 (la gran parte compatible con las versiones m\u00e1s recientes de Python2).\n",
      "\n",
      "Las principales ventajas de la POO son la encapsulaci\u00f3n y la reutilizaci\u00f3n.\n"
     ]
    },
    {
     "cell_type": "markdown",
     "metadata": {},
     "source": [
      "Clases en Python\n",
      "--"
     ]
    },
    {
     "cell_type": "markdown",
     "metadata": {},
     "source": [
      "La clase m\u00ednima en Python es:"
     ]
    },
    {
     "cell_type": "code",
     "collapsed": false,
     "input": [
      "class Atom():\n",
      "    pass"
     ],
     "language": "python",
     "metadata": {},
     "outputs": [],
     "prompt_number": 1
    },
    {
     "cell_type": "markdown",
     "metadata": {},
     "source": [
      "La forma habitual de crear una clase (tipo) es crear un objeto (variable) de ella:"
     ]
    },
    {
     "cell_type": "code",
     "collapsed": false,
     "input": [
      "atom = Atom()"
     ],
     "language": "python",
     "metadata": {},
     "outputs": [],
     "prompt_number": 2
    },
    {
     "cell_type": "markdown",
     "metadata": {},
     "source": [
      "En este ejemplo, la clase no recibe ning\u00fan tipo de configuraci\u00f3n (par\u00e1metros). Lo habitual es que los objetos tengan unos par\u00e1metros que los definen y son definidos al crear el objeto. Por ejemplo, si queremos crear un \u00e1tomo de Carbono, que tiene 6 electr\u00f3nes y 6 protones."
     ]
    },
    {
     "cell_type": "code",
     "collapsed": false,
     "input": [
      "class Atom():\n",
      "    def __init__(self, electrons, protons):\n",
      "        self.electrons = electrons\n",
      "        self.protons = protons\n",
      "\n",
      "carbon = Atom(electrons = 6, protons = 6)"
     ],
     "language": "python",
     "metadata": {},
     "outputs": [],
     "prompt_number": 3
    },
    {
     "cell_type": "markdown",
     "metadata": {},
     "source": [
      "Para poder configurar la clase en la creaci\u00f3n de objetos, necesitamos el m\u00e9todo de inicializaci\u00f3n de clase \"__init__\". Este m\u00e9todo, al igual que el esto de m\u00e9todos de una clase, recibe como primer par\u00e1metro \"self\". Esta variable la gestiona de forma autom\u00e1tica Python, y es una referencia al objeto que se ha creado.\n",
      "\n",
      "Para a\u00f1adir funcionalidad a una clase la forma de hacerlo es mediante m\u00e9todos (funciones) de clase. Estos m\u00e9todos tienen como diferencia con las funciones habituales de Python que reciben como primer par\u00e1metro \"self\".\n",
      "\n",
      "Vamos a a\u00f1adir dos nuevos m\u00e9todos para consultar el n\u00famero de electrones y de protones de un \u00e1tomo."
     ]
    },
    {
     "cell_type": "code",
     "collapsed": false,
     "input": [
      "class Atom():\n",
      "    def __init__(self, electrons, protons):\n",
      "        self.electrons = electrons\n",
      "        self.protons = protons\n",
      "\n",
      "    def get_electrons(self):\n",
      "        return self.electrons\n",
      "    \n",
      "    def get_protons(self):\n",
      "        return self.protons\n",
      "\n",
      "carbon = Atom(electrons = 6, protons = 6)\n",
      "print(\"The carbon atom has %i electrons\" % carbon.get_electrons())\n",
      "print(\"The carbon atom has %i protons\" % carbon.get_electrons())"
     ],
     "language": "python",
     "metadata": {},
     "outputs": [
      {
       "output_type": "stream",
       "stream": "stdout",
       "text": [
        "The carbon atom has 6 electrons\n",
        "The carbon atom has 6 protons\n"
       ]
      }
     ],
     "prompt_number": 4
    },
    {
     "cell_type": "markdown",
     "metadata": {},
     "source": [
      "Herencia\n",
      "--"
     ]
    },
    {
     "cell_type": "markdown",
     "metadata": {},
     "source": [
      "Las clases se puede crear a partir de otras clases base. Por ejemplo, vamos a crear una clase espec\u00edfica para representar a los \u00e1tomos de Carbon."
     ]
    },
    {
     "cell_type": "code",
     "collapsed": false,
     "input": [
      "class Carbon(Atom):\n",
      "    def __init__(self):\n",
      "        self.electrons = 6\n",
      "        self.protons = 6\n",
      "    \n",
      "carbon = Carbon()\n",
      "print(\"The carbon atom has %i electrons\" % carbon.get_electrons())\n",
      "print(\"The carbon atom has %i protons\" % carbon.get_electrons())"
     ],
     "language": "python",
     "metadata": {},
     "outputs": [
      {
       "output_type": "stream",
       "stream": "stdout",
       "text": [
        "The carbon atom has 6 electrons\n",
        "The carbon atom has 6 protons\n"
       ]
      }
     ],
     "prompt_number": 5
    },
    {
     "cell_type": "markdown",
     "metadata": {},
     "source": [
      "La nueva clase Carbon es una especializaci\u00f3n de la clase general (base) Atom. Ya sabe el n\u00famero de electrones y protones, por lo que no hay que indicarlos. Y puede utilizar toda la funciolidad que ofrece la clase base.\n",
      "\n",
      "La clase Carbon puede redefinir como se comparta la clase base all\u00e1 donde lo necesite. En el ejemplo anterior, redefine la inicializaci\u00f3n para poner el n\u00famero de electr\u00f3nes y protones, pero reutiliza el resto de m\u00e9todos de Atom (get_electrons y get_protons).\n",
      "\n",
      "La clase Carbon adem\u00e1s puede a\u00f1adir nuevos m\u00e9todos para implementar funcionalidad espec\u00edfica del \u00e1tomo de Carbon.\n",
      "\n",
      "El \u00e1tomo de Carbon tiene hasta 11 isotopos pero el m\u00e1s habitual es el Carbono12, que tiene 6 neutrones en el n\u00facleo.\n",
      "\n",
      "Podemos crear una nueva clase Carbon12 para modelar a este isotopo."
     ]
    },
    {
     "cell_type": "code",
     "collapsed": false,
     "input": [
      "class Carbon12(Carbon):\n",
      "    def __init__(self):\n",
      "        self.electrons = 6\n",
      "        self.protons = 6\n",
      "        self.neutrons = 6"
     ],
     "language": "python",
     "metadata": {},
     "outputs": [],
     "prompt_number": 6
    },
    {
     "cell_type": "markdown",
     "metadata": {},
     "source": [
      "En general, todos los \u00e1tomos tienen neutrones en e\u013a n\u00facleo, por lo que deber\u00edamos de incluir como par\u00e1metro de Atom el n\u00famero de neutrones, y un m\u00e9todo para obtenerlos."
     ]
    },
    {
     "cell_type": "markdown",
     "metadata": {},
     "source": [
      "M\u00e9todos privados\n",
      "--"
     ]
    },
    {
     "cell_type": "markdown",
     "metadata": {},
     "source": [
      "M\u00e9todos y Variables est\u00e1ticas (de clase)\n",
      "--"
     ]
    }
   ],
   "metadata": {}
  }
 ]
}