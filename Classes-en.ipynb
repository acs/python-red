{
 "cells": [
  {
   "cell_type": "markdown",
   "metadata": {},
   "source": [
    "Object Oriented Programming Introducion (OOP) \n",
    "==\n",
    "This notebook includes a general introduction to object oriented programming. Python3 is used but\n",
    "most of the code is compatible also with Python2.\n",
    "\n",
    "The OOP main advantages are the encapsulation, making the code more modular, and the reuse, less code is needed."
   ]
  },
  {
   "cell_type": "markdown",
   "metadata": {},
   "source": [
    "Classes in Python\n",
    "--"
   ]
  },
  {
   "cell_type": "markdown",
   "metadata": {},
   "source": [
    "The minimal class in Python is:"
   ]
  },
  {
   "cell_type": "code",
   "execution_count": 4,
   "metadata": {
    "collapsed": false
   },
   "outputs": [],
   "source": [
    "class Atom():\n",
    "    pass"
   ]
  },
  {
   "cell_type": "markdown",
   "metadata": {},
   "source": [
    "Classes are used to create objects that will be how the logic of the software programa is implemented."
   ]
  },
  {
   "cell_type": "code",
   "execution_count": 5,
   "metadata": {
    "collapsed": false
   },
   "outputs": [],
   "source": [
    "atom = Atom()"
   ]
  },
  {
   "cell_type": "markdown",
   "metadata": {},
   "source": [
    "In this sample, the class does not receive any kind of configuration (params). Objects are created normally using params, which define the initial state of the object. In this example, a Carbon object is created with 6 electrons and 6 protons."
   ]
  },
  {
   "cell_type": "code",
   "execution_count": 6,
   "metadata": {
    "collapsed": false
   },
   "outputs": [],
   "source": [
    "class Atom():\n",
    "    def __init__(self, electrons, protons):\n",
    "        self.electrons = electrons\n",
    "        self.protons = protons\n",
    "\n",
    "carbon = Atom(electrons = 6, protons = 6)"
   ]
  },
  {
   "cell_type": "markdown",
   "metadata": {},
   "source": [
    "To create a new Object using initial params, a special method must be defined in the Class: `__init__`. This method will be called automatically when the object is created, and the params used in the object creation are passed to this init method.\n",
    "\n",
    "The first param of the `__init__` methods, and the first param in all the methods of a class, is the param `self`. This param represent the current object in which the method is called.\n",
    "\n",
    "To add features to a class, new methods are added. These are normal python methods that have as the first param the `self` variable, pointing to the object in which the method was called.\n",
    "\n",
    "Let's add two new methods to the Atom class to query the electrons and protons numbers for an atom."
   ]
  },
  {
   "cell_type": "code",
   "execution_count": 7,
   "metadata": {
    "collapsed": false
   },
   "outputs": [
    {
     "name": "stdout",
     "output_type": "stream",
     "text": [
      "The carbon atom has 6 electrons\n",
      "The carbon atom has 6 protons\n"
     ]
    }
   ],
   "source": [
    "class Atom():\n",
    "    def __init__(self, electrons, protons):\n",
    "        self.electrons = electrons\n",
    "        self.protons = protons\n",
    "\n",
    "    def get_electrons(self):\n",
    "        return self.electrons\n",
    "    \n",
    "    def get_protons(self):\n",
    "        return self.protons\n",
    "\n",
    "carbon = Atom(electrons = 6, protons = 6)\n",
    "print(\"The carbon atom has %i electrons\" % carbon.get_electrons())\n",
    "print(\"The carbon atom has %i protons\" % carbon.get_electrons())"
   ]
  },
  {
   "cell_type": "markdown",
   "metadata": {},
   "source": [
    "Inheritance\n",
    "--"
   ]
  },
  {
   "cell_type": "markdown",
   "metadata": {},
   "source": [
    "A class could be defined reusing (specializing) another class (its base class). Let's create a new class to work specifically with Carbon atoms."
   ]
  },
  {
   "cell_type": "code",
   "execution_count": 8,
   "metadata": {
    "collapsed": false
   },
   "outputs": [
    {
     "name": "stdout",
     "output_type": "stream",
     "text": [
      "The carbon atom has 6 electrons\n",
      "The carbon atom has 6 protons\n"
     ]
    }
   ],
   "source": [
    "class Carbon(Atom):\n",
    "    def __init__(self):\n",
    "        self.electrons = 6\n",
    "        self.protons = 6\n",
    "    \n",
    "carbon = Carbon()\n",
    "print(\"The carbon atom has %i electrons\" % carbon.get_electrons())\n",
    "print(\"The carbon atom has %i protons\" % carbon.get_electrons())"
   ]
  },
  {
   "cell_type": "markdown",
   "metadata": {},
   "source": [
    "The new Carbon class is an specilization of the base class Atom. It already know the numbers of electrons and protons, so they are not needed in the init params. And all the methods included in the base Atom base class, are also available in this new class.\n",
    "\n",
    "The Carbon class can redefine the methods from the base class. In the above sample, it just redefines the `__init__` method, but the rest of methods are used as they are in the Atom base class (get_electrons and get_protons).\n",
    "\n",
    "In this way, a selective reuse of code can be implemented. And new methods can be added to complete the behaviour needed for a class.\n",
    "\n",
    "The Carbon atom has 11 isotopes but the most common is Carbon12, that it has 6 neutrons in the atom's nucleus.\n",
    "\n",
    "A new class can be defined to represent this Carnon12 isotope."
   ]
  },
  {
   "cell_type": "code",
   "execution_count": 9,
   "metadata": {
    "collapsed": false
   },
   "outputs": [],
   "source": [
    "class Carbon12(Carbon):\n",
    "    def __init__(self):\n",
    "        self.electrons = 6\n",
    "        self.protons = 6\n",
    "        self.neutrons = 6"
   ]
  },
  {
   "cell_type": "markdown",
   "metadata": {},
   "source": [
    "All the atoms have neutrons in the nucleus, so this param must be also added to the class Atom that models what an Atom is. And also, a method to get the value. In this way, it is not needed to create a new class for each isotope because this information can be stored in the Atom class directly.\n",
    "\n",
    "Using this approach the new class Atom is:"
   ]
  },
  {
   "cell_type": "code",
   "execution_count": 10,
   "metadata": {
    "collapsed": false
   },
   "outputs": [],
   "source": [
    "class Atom():\n",
    "    def __init__(self, electrons, protons, neutrons):\n",
    "        self.electrons = electrons\n",
    "        self.protons = protons\n",
    "        self.neutrons = neutrons\n",
    "        \n",
    "    def get_electrons(self):\n",
    "        return self.electrons\n",
    "    \n",
    "    def get_protons(self):\n",
    "        return self.protons\n",
    "    \n",
    "    def get_neutrons(self):\n",
    "        return self.neutrons\n",
    "\n",
    "class Carbon(Atom):\n",
    "    def __init__(self, neutrons=6):\n",
    "        self.electrons = 6\n",
    "        self.protons = 6\n",
    "        self.neutrons = neutrons"
   ]
  },
  {
   "cell_type": "markdown",
   "metadata": {},
   "source": [
    "Now, Atoms by default are created with 6 neutrons, like Carbon12. So this is the default isotope generated when creating new Atoms. But this value can be chnaged just passing a different value in the constructor."
   ]
  },
  {
   "cell_type": "code",
   "execution_count": 11,
   "metadata": {
    "collapsed": false
   },
   "outputs": [
    {
     "name": "stdout",
     "output_type": "stream",
     "text": [
      "7\n"
     ]
    }
   ],
   "source": [
    "carbon13 = Carbon(neutrons=7)\n",
    "print(carbon13.get_neutrons())"
   ]
  },
  {
   "cell_type": "markdown",
   "metadata": {},
   "source": [
    "Class Static Methods and Variables\n",
    "--\n",
    "\n",
    "Analyzing the Carbon class, the number or electros and protons is always the same, no matter what is the carbon isotope object we are creating. So this data is not object specific but class specific. All the objects created from this Carbon class will have the same values for electros and protons.\n",
    "\n",
    "To these variables that are related to the class, and that are not defined per object, we call the **static variables**. They are declared at class level in this way:"
   ]
  },
  {
   "cell_type": "code",
   "execution_count": 12,
   "metadata": {
    "collapsed": false
   },
   "outputs": [],
   "source": [
    "class Atom():\n",
    "    electrons = None\n",
    "    protons = None\n",
    "\n",
    "    def __init__(self, neutrons):\n",
    "        self.neutrons = neutrons\n",
    "    \n",
    "    @classmethod\n",
    "    def get_electrons(cls):\n",
    "        print(cls)\n",
    "        return cls.electrons\n",
    "    \n",
    "    @classmethod\n",
    "    def get_protons(cls):\n",
    "        return cls.protons\n",
    "    \n",
    "    def get_neutrons(self):\n",
    "        return self.neutrons\n",
    "\n",
    "class Carbon(Atom):\n",
    "    electrons = 6\n",
    "    protons = 6\n",
    "\n",
    "    def __init__(self, neutrons=6):\n",
    "        self.neutrons = neutrons"
   ]
  },
  {
   "cell_type": "raw",
   "metadata": {},
   "source": [
    "Along with the static variables, there are the static methods. These methods only need static variables from the class and other data not related with the object for this class. To use a static method, it is called using directly the class, so there is no need to create an object of the class."
   ]
  },
  {
   "cell_type": "code",
   "execution_count": 13,
   "metadata": {
    "collapsed": false
   },
   "outputs": [
    {
     "name": "stdout",
     "output_type": "stream",
     "text": [
      "<class '__main__.Carbon'>\n",
      "6\n",
      "<class '__main__.Carbon'>\n",
      "6\n"
     ]
    }
   ],
   "source": [
    "carbon = Carbon()\n",
    "print(Carbon.get_electrons())\n",
    "print(carbon.get_electrons())\n"
   ]
  },
  {
   "cell_type": "markdown",
   "metadata": {},
   "source": [
    "Private Methods\n",
    "--\n",
    "\n",
    "It is possible to declare as private methods from a class. These methods can not be used outside the definition of the class. And they are the key to enforce **encapsulation** of logic."
   ]
  },
  {
   "cell_type": "code",
   "execution_count": 14,
   "metadata": {
    "collapsed": false
   },
   "outputs": [
    {
     "name": "stdout",
     "output_type": "stream",
     "text": [
      "Atom private method\n"
     ]
    },
    {
     "ename": "AttributeError",
     "evalue": "'Carbon' object has no attribute '_Carbon__atom_private'",
     "output_type": "error",
     "traceback": [
      "\u001b[0;31m---------------------------------------------------------------------------\u001b[0m",
      "\u001b[0;31mAttributeError\u001b[0m                            Traceback (most recent call last)",
      "\u001b[0;32m<ipython-input-14-c81ec06659c4>\u001b[0m in \u001b[0;36m<module>\u001b[0;34m()\u001b[0m\n\u001b[1;32m     31\u001b[0m \u001b[0;34m\u001b[0m\u001b[0m\n\u001b[1;32m     32\u001b[0m \u001b[0matom\u001b[0m \u001b[0;34m=\u001b[0m \u001b[0mAtom\u001b[0m\u001b[0;34m(\u001b[0m\u001b[0;34m)\u001b[0m\u001b[0;34m\u001b[0m\u001b[0m\n\u001b[0;32m---> 33\u001b[0;31m \u001b[0mcarbon\u001b[0m \u001b[0;34m=\u001b[0m \u001b[0mCarbon\u001b[0m\u001b[0;34m(\u001b[0m\u001b[0;34m)\u001b[0m\u001b[0;34m\u001b[0m\u001b[0m\n\u001b[0m",
      "\u001b[0;32m<ipython-input-14-c81ec06659c4>\u001b[0m in \u001b[0;36m__init__\u001b[0;34m(self, neutrons)\u001b[0m\n\u001b[1;32m     28\u001b[0m     \u001b[0;32mdef\u001b[0m \u001b[0m__init__\u001b[0m\u001b[0;34m(\u001b[0m\u001b[0mself\u001b[0m\u001b[0;34m,\u001b[0m \u001b[0mneutrons\u001b[0m\u001b[0;34m=\u001b[0m\u001b[0;36m6\u001b[0m\u001b[0;34m)\u001b[0m\u001b[0;34m:\u001b[0m\u001b[0;34m\u001b[0m\u001b[0m\n\u001b[1;32m     29\u001b[0m         \u001b[0mself\u001b[0m\u001b[0;34m.\u001b[0m\u001b[0mneutrons\u001b[0m \u001b[0;34m=\u001b[0m \u001b[0mneutrons\u001b[0m\u001b[0;34m\u001b[0m\u001b[0m\n\u001b[0;32m---> 30\u001b[0;31m         \u001b[0mself\u001b[0m\u001b[0;34m.\u001b[0m\u001b[0m__atom_private\u001b[0m\u001b[0;34m(\u001b[0m\u001b[0;34m)\u001b[0m\u001b[0;34m\u001b[0m\u001b[0m\n\u001b[0m\u001b[1;32m     31\u001b[0m \u001b[0;34m\u001b[0m\u001b[0m\n\u001b[1;32m     32\u001b[0m \u001b[0matom\u001b[0m \u001b[0;34m=\u001b[0m \u001b[0mAtom\u001b[0m\u001b[0;34m(\u001b[0m\u001b[0;34m)\u001b[0m\u001b[0;34m\u001b[0m\u001b[0m\n",
      "\u001b[0;31mAttributeError\u001b[0m: 'Carbon' object has no attribute '_Carbon__atom_private'"
     ]
    }
   ],
   "source": [
    "class Atom():\n",
    "    electrons = None\n",
    "    protons = None\n",
    "\n",
    "    def __init__(self, neutrons=None):\n",
    "        self.neutrons = neutrons\n",
    "        self.__atom_private()\n",
    "    \n",
    "    @classmethod\n",
    "    def get_electrons(cls):\n",
    "        print(cls)\n",
    "        return cls.electrons\n",
    "    \n",
    "    @classmethod\n",
    "    def get_protons(cls):\n",
    "        return cls.protons\n",
    "    \n",
    "    def get_neutrons(self):\n",
    "        return self.neutrons\n",
    "    \n",
    "    def __atom_private(self):\n",
    "        print(\"Atom private method\")\n",
    "\n",
    "class Carbon(Atom):\n",
    "    electrons = 6\n",
    "    protons = 6\n",
    "\n",
    "    def __init__(self, neutrons=6):\n",
    "        self.neutrons = neutrons\n",
    "        self.__atom_private()\n",
    "\n",
    "atom = Atom()\n",
    "carbon = Carbon()"
   ]
  },
  {
   "cell_type": "markdown",
   "metadata": {},
   "source": [
    "UML\n",
    "--\n",
    "\n",
    "[Diagram](https://drive.google.com/open?id=0B3OoQwluKovxem5rNFRjWGx2bkU)\n"
   ]
  },
  {
   "cell_type": "markdown",
   "metadata": {},
   "source": [
    "Python Classes Practise\n",
    "--\n",
    "The goal of this practise is to desing the Molecule concept and then, to use it for define teh water molecule (H2O) and the oxigen one (O2)."
   ]
  }
 ],
 "metadata": {
  "kernelspec": {
   "display_name": "Python 3",
   "language": "python",
   "name": "python3"
  },
  "language_info": {
   "codemirror_mode": {
    "name": "ipython",
    "version": 3
   },
   "file_extension": ".py",
   "mimetype": "text/x-python",
   "name": "python",
   "nbconvert_exporter": "python",
   "pygments_lexer": "ipython3",
   "version": "3.5.2"
  }
 },
 "nbformat": 4,
 "nbformat_minor": 0
}
